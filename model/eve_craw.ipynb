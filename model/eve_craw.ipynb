{
 "cells": [
  {
   "cell_type": "markdown",
   "metadata": {},
   "source": [
    "# Import"
   ]
  },
  {
   "cell_type": "code",
   "execution_count": 1,
   "metadata": {},
   "outputs": [],
   "source": [
    "from selenium import webdriver\n",
    "from selenium.webdriver.common.by import By\n",
    "from selenium.webdriver.common.keys import Keys\n",
    "from selenium.webdriver.support.ui import WebDriverWait\n",
    "from selenium.webdriver.support import expected_conditions as EC\n",
    "from tqdm import tqdm\n",
    "import pyperclip\n",
    "import time\n",
    "import random\n",
    "import pandas as pd\n",
    "import re"
   ]
  },
  {
   "cell_type": "markdown",
   "metadata": {},
   "source": [
    "# Crawling"
   ]
  },
  {
   "cell_type": "code",
   "execution_count": 51,
   "metadata": {},
   "outputs": [
    {
     "name": "stderr",
     "output_type": "stream",
     "text": [
      "Current Page \"1999\": 100%|====================================| 1000/1000 [6:22:41<00:00, 22.96s/it]\n"
     ]
    }
   ],
   "source": [
    "driver = webdriver.Chrome()\n",
    "wait = WebDriverWait(driver, 10)\n",
    "\n",
    "# 로그인\n",
    "driver.get(\"https://everytime.kr/login\")\n",
    "\n",
    "# 사용자 자격 증명\n",
    "nid = '' # 내 ID\n",
    "pyperclip.copy(nid)\n",
    "driver.find_element(By.NAME, \"id\").send_keys(Keys.CONTROL + 'v')\n",
    "npw = '' # 내 비밀번호\n",
    "pyperclip.copy(npw)\n",
    "secure = 'blank'\n",
    "driver.find_element(By.NAME, \"password\").send_keys(Keys.CONTROL + 'v')\n",
    "pyperclip.copy(secure)\n",
    "\n",
    "# 로그인 양식 제출\n",
    "driver.find_element(By.XPATH, '/html/body/div/div/form/input').click()\n",
    "\n",
    "# 로그인 완료까지 대기\n",
    "wait.until(EC.url_changes(\"https://everytime.kr/login\"))\n",
    "\n",
    "# 크롤링 루프\n",
    "titles, comments, votes, comment_nums, scraps = [], [], [], [], []\n",
    "\n",
    "'''자유게시판(389113): 14,160 x 20 = 약 283,200\n",
    "비밀게시판(258806): 2,095 x 20 = 약 41,900\n",
    "졸업생게시판(389397): 118 x 20 = 약 2,360\n",
    "새내기게시판(389202): 2,228 x 20 = 약 44,560\n",
    "시사이슈(482609): 169 x 20 = 약 3,380\n",
    "장터게시판(389346): 335 x 20 = 약 6,700\n",
    "정보게시판(258808): 7 x 20 = 약 140\n",
    "홍보게시판(367467): 106 x 20 = 약 2,120\n",
    "취업진로(389293): 28 x 20 = 약 560\n",
    "제목, 본문 내용, 투표수, 댓글수, 스크랩수'''\n",
    "\n",
    "driver.get(f\"https://everytime.kr/389113/p/1\")\n",
    "time.sleep(3)\n",
    "\n",
    "iterable = range(1, 2000)\n",
    "pbar = tqdm(iterable,\n",
    "            total=len(iterable),\n",
    "            desc='page',\n",
    "            ncols=100,\n",
    "            ascii=' =',\n",
    "            leave=True)\n",
    "\n",
    "for cnt in pbar: \n",
    "    # everytime 게시판 링크\n",
    "    pbar.set_description(f'Current Page \"{cnt}\"')\n",
    "    driver.get(f\"https://everytime.kr/389113/p/{cnt}\")\n",
    "\n",
    "    # 페이지가 로드될 때까지 대기\n",
    "    time.sleep(random.randrange(1, 7))\n",
    "\n",
    "    # 링크 가져오기\n",
    "    posts = driver.find_elements(By.CSS_SELECTOR, 'div > article > a.article')\n",
    "    links = [post.get_attribute('href') for post in posts]\n",
    "\n",
    "    # 상세 글 가져오기\n",
    "    for link in tqdm(links, desc='link', position=1, leave=False):\n",
    "        driver.get(link)\n",
    "        # 게시판 원문 가져오기\n",
    "        try:\n",
    "            # 페이지가 로드될 때까지 대기\n",
    "            wait.until(EC.presence_of_element_located((By.CSS_SELECTOR, 'p.large')))\n",
    "            titles.append(driver.find_element(By.CSS_SELECTOR, '#container > div.wrap.articles > article > a > h2.large').text)\n",
    "            comments.append(driver.find_element(By.CSS_SELECTOR, \"#container > div.wrap.articles > article > a > p.large\").text)\n",
    "            votes.append(driver.find_element(By.CSS_SELECTOR, '#container > div.wrap.articles > article > a > ul.status.left > li.vote').text)\n",
    "            comment_nums.append(driver.find_element(By.CSS_SELECTOR, '#container > div.wrap.articles > article > a > ul.status.left > li.comment').text)\n",
    "            scraps.append(driver.find_element(By.CSS_SELECTOR, '#container > div.wrap.articles > article > a > ul.status.left > li.scrap').text)\n",
    "        except:\n",
    "            continue\n",
    "        \n",
    "# 브라우저 닫기\n",
    "driver.quit()\n",
    "\n",
    "results = pd.DataFrame({'title': titles, 'main': comments, 'votes': votes, 'comment_nums': comment_nums, 'scraps': scraps})\n",
    "\n",
    "results.to_csv('results_free.csv')"
   ]
  },
  {
   "cell_type": "markdown",
   "metadata": {},
   "source": [
    "# Data Preprocessing"
   ]
  },
  {
   "cell_type": "code",
   "execution_count": null,
   "metadata": {},
   "outputs": [],
   "source": [
    "def clean_str(text):\n",
    "    # 여러 패턴을 하나로 통합\n",
    "    patterns = [\n",
    "        '([a-zA-Z0-9_.+-]+@[a-zA-Z0-9-]+\\.[a-zA-Z0-9-.]+)',  # E-mail 제거\n",
    "        '(http|ftp|https)://(?:[-\\w.]|(?:%[\\da-fA-F]{2}))+',  # URL 제거\n",
    "        '([ㄱ-ㅎㅏ-ㅣ]+)',  # 한글 자음, 모음 제거\n",
    "        '<[^>]*>',  # HTML 태그 제거\n",
    "        '[^\\w\\s\\n]',  # 특수 기호 제거\n",
    "        '[-=+,#/\\?:^$.@*\\\"※~&%ㆍ!』\\\\‘|\\(\\)\\[\\]\\<\\>`\\'…》]', '',  # 추가 특수 기호 제거\n",
    "        '\\n', '.'  # 줄 바꿈을 마침표로 변경\n",
    "    ]\n",
    "    combined_pattern = '|'.join(patterns)\n",
    "    text = re.sub(pattern=combined_pattern, repl='', string=text)\n",
    "    text = re.sub('[一-龯a-zA-Z]', '', string=text)  # 한자 및 영문 제거\n",
    "    return text\n",
    "\n",
    "def prepro_df(df):\n",
    "    # 'title'이 NaN인 경우에 대비하여 fillna 사용\n",
    "    df['content'] = df['title'].fillna('') + ' ' + df['main']\n",
    "    df = df.drop(columns=['Unnamed: 0', 'title', 'main'])\n",
    "    df = df.sample(frac=1).reset_index(drop=True)\n",
    "    df['content'] = df['content'].apply(clean_str)\n",
    "    return df"
   ]
  }
 ],
 "metadata": {
  "kernelspec": {
   "display_name": "stns",
   "language": "python",
   "name": "python3"
  },
  "language_info": {
   "codemirror_mode": {
    "name": "ipython",
    "version": 3
   },
   "file_extension": ".py",
   "mimetype": "text/x-python",
   "name": "python",
   "nbconvert_exporter": "python",
   "pygments_lexer": "ipython3",
   "version": "3.9.18"
  }
 },
 "nbformat": 4,
 "nbformat_minor": 2
}
